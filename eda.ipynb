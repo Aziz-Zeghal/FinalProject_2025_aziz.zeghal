{
 "cells": [
  {
   "cell_type": "markdown",
   "id": "fdb69875",
   "metadata": {},
   "source": [
    "# Project Assignment: Short Video Recommender System (KuaiRec)\n",
    "\n",
    "Dataset Source: [Kuairec](https://kuairec.com/)\n",
    "\n",
    "Arxiv Paper: [KuaiRec: A Fully-observed Dataset and Insights for Evaluating Recommender Systems](https://arxiv.org/pdf/2202.10842)"
   ]
  },
  {
   "cell_type": "markdown",
   "id": "cf398766",
   "metadata": {},
   "source": [
    "## Dataset import"
   ]
  },
  {
   "cell_type": "code",
   "execution_count": null,
   "id": "ca0828cc",
   "metadata": {},
   "outputs": [],
   "source": [
    "!wget https://nas.chongminggao.top:4430/datasets/KuaiRec.zip --no-check-certificate\n",
    "!unzip KuaiRec.zip"
   ]
  },
  {
   "cell_type": "code",
   "execution_count": null,
   "id": "f41c99b0",
   "metadata": {},
   "outputs": [],
   "source": [
    "import os\n",
    "\n",
    "import numpy as np\n",
    "import pandas as pd\n",
    "import plotly.express as px\n",
    "from scipy.sparse import csr_matrix\n",
    "from sklearn.feature_extraction.text import TfidfVectorizer\n",
    "from sklearn.preprocessing import MultiLabelBinarizer\n",
    "\n",
    "# I get my dataset from a Kaggle input\n",
    "DATA_PATH = \"/kaggle/input/kuairec/KuaiRec 2.0/data\"\n",
    "if not os.path.exists(DATA_PATH):\n",
    "   DATA_PATH = f\"{os.getcwd()}/KuaiRec/data\"\n",
    "if not os.path.exists(DATA_PATH):\n",
    "   DATA_PATH = f\"{os.getcwd()}/KuaiRec 2.0/data\"\n",
    "if not os.path.exists(DATA_PATH):\n",
    "   raise FileNotFoundError(\"KuaiRec dataset not found. Please check the path.\")\n",
    "\n",
    "DATA_PATH"
   ]
  },
  {
   "cell_type": "markdown",
   "id": "ad4816fa",
   "metadata": {},
   "source": [
    "# Exploratory Data Analysis (EDA)\n",
    "\n",
    "Each part is associated to a specific observation."
   ]
  },
  {
   "cell_type": "markdown",
   "id": "743ec98d",
   "metadata": {},
   "source": [
    "## Observe the dataset"
   ]
  },
  {
   "cell_type": "code",
   "execution_count": null,
   "id": "976cd3a3",
   "metadata": {},
   "outputs": [],
   "source": [
    "def data_clear(df : pd.DataFrame) -> pd.DataFrame:\n",
    "    # Date is time in a weird format\n",
    "\n",
    "    # Time and Date are duplicated of timestamp, we can drop them\n",
    "    df.drop(columns=[\"time\", \"date\"], inplace=True)\n",
    "    # Not a problem, we want to keep the data for the density\n",
    "    df = df.astype({\n",
    "        \"user_id\": \"int32\",\n",
    "        \"video_id\": \"int32\",\n",
    "        \"play_duration\":\"int32\",\n",
    "        \"timestamp\": \"int64\",\n",
    "        \"watch_ratio\": \"float32\"}, errors=\"ignore\")\n",
    "    \n",
    "    # Drop duplicates\n",
    "    df.drop_duplicates(inplace=True)\n",
    "    df.dropna(inplace=True)\n",
    "    df = df[df[\"timestamp\"] >= 0]\n",
    "    \n",
    "    df[\"timestamp\"] = pd.to_datetime(df[\"timestamp\"], unit=\"s\")\n",
    "\n",
    "    return df"
   ]
  },
  {
   "cell_type": "code",
   "execution_count": null,
   "id": "282161f8",
   "metadata": {},
   "outputs": [],
   "source": [
    "def my_describe(df : pd.DataFrame) -> pd.DataFrame:\n",
    "    \"\"\"\n",
    "    Custom describe for datasets containing user_id and video_id\n",
    "    \"\"\"\n",
    "    print(f\"Shape of the small matrix: {df.shape}\")\n",
    "    unique_users = df[\"user_id\"].nunique()\n",
    "    unique_posts = df[\"video_id\"].nunique()\n",
    "    print(f\"Number of unique users: {unique_users}\")\n",
    "    print(f\"Number of unique posts: {unique_posts}\")\n",
    "    print(f\"Matrix sparsity: {len(df) /(unique_posts * unique_users) * 100}%\")\n",
    "    return df.describe()"
   ]
  },
  {
   "cell_type": "markdown",
   "id": "9b357332",
   "metadata": {},
   "source": [
    "## Small matrix\n",
    "\n",
    "This table has a density of 99.6%. This means that 99.6% of the entries in the matrix are non-zero, indicating that most users have interacted with most items."
   ]
  },
  {
   "cell_type": "code",
   "execution_count": null,
   "id": "f51739df",
   "metadata": {},
   "outputs": [],
   "source": [
    "small_matrix = pd.read_csv(f\"{DATA_PATH}/small_matrix.csv\")\n",
    "\n",
    "small_matrix = data_clear(small_matrix)\n"
   ]
  },
  {
   "cell_type": "markdown",
   "id": "3e482f0b",
   "metadata": {},
   "source": [
    "#### General statistics"
   ]
  },
  {
   "cell_type": "code",
   "execution_count": null,
   "id": "8049123d",
   "metadata": {},
   "outputs": [],
   "source": [
    "eda_small_matrix = small_matrix.copy()"
   ]
  },
  {
   "cell_type": "code",
   "execution_count": null,
   "id": "bcefad61",
   "metadata": {},
   "outputs": [],
   "source": [
    "eda_small_matrix.head(5)"
   ]
  },
  {
   "cell_type": "code",
   "execution_count": null,
   "id": "50208564",
   "metadata": {},
   "outputs": [],
   "source": [
    "my_describe(eda_small_matrix)"
   ]
  },
  {
   "cell_type": "markdown",
   "id": "d45fe5fc",
   "metadata": {},
   "source": [
    "We have a matrix of interaction.\n",
    "\n",
    "Let's see the distribution of our video related values (timestamp, watch_ratio etc.)"
   ]
  },
  {
   "cell_type": "code",
   "execution_count": null,
   "id": "340a6ac4",
   "metadata": {},
   "outputs": [],
   "source": [
    "\n",
    "fig = px.histogram(eda_small_matrix[\"user_id\"].value_counts())\n",
    "fig.update_layout(\n",
    "    title=\"Distribution of Interactions per User\",\n",
    "    xaxis_title=\"Number of Interactions\",\n",
    "    yaxis_title=\"Count of Users\",\n",
    ")\n",
    "\n",
    "fig.show()\n",
    "\n",
    "\n",
    "fig = px.histogram(eda_small_matrix[\"video_id\"].value_counts())\n",
    "fig.update_layout(\n",
    "    title=\"Distribution of Interactions per Video\",\n",
    "    xaxis_title=\"Number of Interactions\",\n",
    "    yaxis_title=\"Count of Videos\",\n",
    ")\n",
    "fig.show()\n",
    "\n"
   ]
  },
  {
   "cell_type": "markdown",
   "id": "ab651117",
   "metadata": {},
   "source": [
    "#### Time trend"
   ]
  },
  {
   "cell_type": "code",
   "execution_count": null,
   "id": "1eaf66a3",
   "metadata": {},
   "outputs": [],
   "source": [
    "# Plot the number of interactions per hour for top 10 users\n",
    "def get_n_top_info(df : pd.DataFrame, info : str = \"user_id\", top_n : int = 10) -> pd.DataFrame:\n",
    "    top_users = df[info].value_counts().nlargest(top_n).index\n",
    "    top_users_df = df[df[info].isin(top_users)]\n",
    "\n",
    "    return top_users_df"
   ]
  },
  {
   "cell_type": "code",
   "execution_count": null,
   "id": "7156696c",
   "metadata": {},
   "outputs": [],
   "source": [
    "top_users_df = get_n_top_info(eda_small_matrix, \"user_id\", 10)\n",
    "\n",
    "top_users_df[\"hour\"] = top_users_df[\"timestamp\"].dt.hour\n",
    "\n",
    "fig = px.histogram(\n",
    "    top_users_df,\n",
    "    x=\"hour\",\n",
    "    color=\"user_id\",\n",
    "    title=\"Distribution of Interactions per Hour for Top Users\",\n",
    "    labels={\"hour\": \"Hour of Day\", \"user_id\": \"User ID\"},\n",
    "    barmode=\"group\",\n",
    ")\n",
    "fig.show()"
   ]
  },
  {
   "cell_type": "markdown",
   "id": "b5a1d416",
   "metadata": {},
   "source": [
    "It seems that top users interact with videos mostly around 5 pm. This is probably when users have the most free time and are more likely to watch videos.\n",
    "\n",
    "We will map out the distribution of interactions to see if this is a trend or just a coincidence."
   ]
  },
  {
   "cell_type": "code",
   "execution_count": null,
   "id": "011cde1d",
   "metadata": {},
   "outputs": [],
   "source": [
    "eda_small_matrix[\"hour\"] = eda_small_matrix[\"timestamp\"].dt.hour\n",
    "\n",
    "px.histogram(\n",
    "    eda_small_matrix,\n",
    "    x=\"hour\",\n",
    "    title=\"Distribution of Interactions per Hour\",\n",
    "    log_y=True\n",
    ")"
   ]
  },
  {
   "cell_type": "markdown",
   "id": "f24c9d27",
   "metadata": {},
   "source": [
    "Overall, most interactions happen between 11pm and 2 am, without considering the day or location of users.\n",
    "\n",
    "This insight could be interesting if we consider time as a feature. We can have perfect moments of the day to recommend videos to users."
   ]
  },
  {
   "cell_type": "markdown",
   "id": "b6c57ea8",
   "metadata": {},
   "source": [
    "## Big matrix\n",
    "\n",
    "This table has a density of 16.3%. We will use this matrix for our training and testing.\n",
    "\n",
    "It contains more interactions with the same users/items of the small matrix. We do not need to substract the small matrix."
   ]
  },
  {
   "cell_type": "code",
   "execution_count": null,
   "id": "de8d2401",
   "metadata": {},
   "outputs": [],
   "source": [
    "big_matrix = pd.read_csv(f\"{DATA_PATH}/big_matrix.csv\")\n",
    "\n",
    "big_matrix = data_clear(big_matrix)\n"
   ]
  },
  {
   "cell_type": "markdown",
   "id": "a11be510",
   "metadata": {},
   "source": [
    "#### General statistics"
   ]
  },
  {
   "cell_type": "code",
   "execution_count": null,
   "id": "492b235b",
   "metadata": {},
   "outputs": [],
   "source": [
    "eda_big_matrix = big_matrix.copy()"
   ]
  },
  {
   "cell_type": "code",
   "execution_count": null,
   "id": "ed26fa92",
   "metadata": {},
   "outputs": [],
   "source": [
    "eda_big_matrix.head(5)"
   ]
  },
  {
   "cell_type": "code",
   "execution_count": null,
   "id": "58362982",
   "metadata": {},
   "outputs": [],
   "source": [
    "my_describe(eda_big_matrix)"
   ]
  },
  {
   "cell_type": "code",
   "execution_count": null,
   "id": "0a3a407b",
   "metadata": {},
   "outputs": [],
   "source": [
    "\n",
    "fig = px.histogram(eda_big_matrix[\"user_id\"].value_counts())\n",
    "fig.update_layout(\n",
    "    title=\"Distribution of Interactions per User\",\n",
    "    xaxis_title=\"Number of Interactions\",\n",
    "    yaxis_title=\"Count of Users\",\n",
    ")\n",
    "\n",
    "fig.show()\n",
    "\n",
    "\n",
    "fig = px.histogram(eda_big_matrix[\"video_id\"].value_counts())\n",
    "fig.update_layout(\n",
    "    title=\"Distribution of Interactions per Video\",\n",
    "    xaxis_title=\"Number of Interactions\",\n",
    "    yaxis_title=\"Count of Videos\",\n",
    ")\n",
    "fig.show()\n",
    "\n"
   ]
  },
  {
   "cell_type": "markdown",
   "id": "7ffc060c",
   "metadata": {},
   "source": [
    "We have a matrix of interaction.\n",
    "\n",
    "Let's see the distribution of our video related values (timestamp, watch_ratio etc.)"
   ]
  },
  {
   "cell_type": "markdown",
   "id": "9beae829",
   "metadata": {},
   "source": [
    "#### Time trend"
   ]
  },
  {
   "cell_type": "code",
   "execution_count": null,
   "id": "036ecaa6",
   "metadata": {},
   "outputs": [],
   "source": [
    "# Plot the number of interactions per hour for top 10 users\n",
    "def get_n_top_info(df : pd.DataFrame, info : str = \"user_id\", top_n : int = 10) -> pd.DataFrame:\n",
    "    top_users = df[info].value_counts().nlargest(top_n).index\n",
    "    top_users_df = df[df[info].isin(top_users)]\n",
    "\n",
    "    return top_users_df"
   ]
  },
  {
   "cell_type": "code",
   "execution_count": null,
   "id": "c1bba161",
   "metadata": {},
   "outputs": [],
   "source": [
    "top_users_df = get_n_top_info(eda_big_matrix, \"user_id\", 10)\n",
    "\n",
    "top_users_df[\"hour\"] = top_users_df[\"timestamp\"].dt.hour\n",
    "\n",
    "fig = px.histogram(\n",
    "    top_users_df,\n",
    "    x=\"hour\",\n",
    "    color=\"user_id\",\n",
    "    title=\"Distribution of Interactions per Hour for Top Users\",\n",
    "    labels={\"hour\": \"Hour of Day\", \"user_id\": \"User ID\"},\n",
    "    barmode=\"group\",\n",
    ")\n",
    "fig.show()"
   ]
  },
  {
   "cell_type": "markdown",
   "id": "a7992391",
   "metadata": {},
   "source": [
    "It seems that top users interact with videos mostly around 5 pm. This is probably when users have the most free time and are more likely to watch videos.\n",
    "\n",
    "We will map out the distribution of interactions to see if this is a trend or just a coincidence."
   ]
  },
  {
   "cell_type": "code",
   "execution_count": null,
   "id": "08aa0870",
   "metadata": {},
   "outputs": [],
   "source": [
    "eda_big_matrix[\"hour\"] = eda_big_matrix[\"timestamp\"].dt.hour\n",
    "\n",
    "px.histogram(\n",
    "    eda_big_matrix,\n",
    "    x=\"hour\",\n",
    "    title=\"Distribution of Interactions per Hour\",\n",
    "    log_y=True\n",
    ")"
   ]
  },
  {
   "cell_type": "markdown",
   "id": "613eb919",
   "metadata": {},
   "source": [
    "Overall, most interactions happen between 11pm and 2 am, without considering the day or location of users.\n",
    "\n",
    "This insight could be interesting if we consider time as a feature. We can have perfect moments of the day to recommend videos to users."
   ]
  },
  {
   "cell_type": "markdown",
   "id": "50e0c435",
   "metadata": {},
   "source": [
    "## Misc"
   ]
  },
  {
   "cell_type": "code",
   "execution_count": null,
   "id": "9866cb7c",
   "metadata": {},
   "outputs": [],
   "source": [
    "print(f\"Proportion of small_matrix relative to big_matrix: {small_matrix.shape[0] * 100 / big_matrix.shape[0]:.2f}%\")"
   ]
  },
  {
   "cell_type": "markdown",
   "id": "b0204e54",
   "metadata": {},
   "source": [
    "## Item category encoding\n",
    "\n",
    "We have the caracteristics of the videos (author_id, video_type...) but this part requires less preprocessing.\n",
    "\n",
    "For Content-based filtering, we need to use features of the videos (list of tags). No need for TF-IDF, we will use a simple one-hot encoding."
   ]
  },
  {
   "cell_type": "code",
   "execution_count": null,
   "id": "ea60afab",
   "metadata": {},
   "outputs": [],
   "source": [
    "# No missing values for this data\n",
    "item_categories = pd.read_csv(f\"{DATA_PATH}/item_categories.csv\")\n",
    "\n",
    "# Transform the feat column to a list (evaluate with python)\n",
    "item_categories[\"feat\"] = item_categories[\"feat\"].apply(eval)"
   ]
  },
  {
   "cell_type": "code",
   "execution_count": null,
   "id": "89d89124",
   "metadata": {},
   "outputs": [],
   "source": [
    "# Use MultiLabelBinarizer to manage efficiently the feat column\n",
    "mlb = MultiLabelBinarizer()\n",
    "\n",
    "matrix_item_category = pd.DataFrame(mlb.fit_transform(item_categories[\"feat\"]), \n",
    "                  columns=mlb.classes_,\n",
    "                  index=item_categories[\"video_id\"])\n"
   ]
  },
  {
   "cell_type": "code",
   "execution_count": null,
   "id": "7e368ea1",
   "metadata": {},
   "outputs": [],
   "source": [
    "nb_of_features = matrix_item_category.sum()\n",
    "fig = px.bar(\n",
    "    x = nb_of_features.index,\n",
    "    y = nb_of_features.values,\n",
    "    title=\"Distribution of Number of Features per Video\",\n",
    "    labels={\"feat\": \"Number of Features\"},\n",
    ")\n",
    "fig"
   ]
  },
  {
   "cell_type": "code",
   "execution_count": null,
   "id": "d53183e9",
   "metadata": {},
   "outputs": [],
   "source": [
    "matrix_item_category"
   ]
  },
  {
   "cell_type": "markdown",
   "id": "3721c187",
   "metadata": {},
   "source": [
    "## Item daily features\n",
    "\n",
    "This dataset is also interesting for content-based filtering.\n",
    "\n",
    "Mostly composed of textual data, we will use a TF-IDF vectorizer to encode the features of the videos."
   ]
  },
  {
   "cell_type": "code",
   "execution_count": null,
   "id": "3627bc32",
   "metadata": {},
   "outputs": [],
   "source": [
    "item_daily_features = pd.read_csv(f\"{DATA_PATH}/item_daily_features.csv\", lineterminator='\\n')\n",
    "item_daily_features"
   ]
  },
  {
   "cell_type": "markdown",
   "id": "41d60b88",
   "metadata": {},
   "source": [
    "## Caption Category"
   ]
  },
  {
   "cell_type": "code",
   "execution_count": null,
   "id": "ea32b588",
   "metadata": {},
   "outputs": [],
   "source": [
    "caption_category = pd.read_csv(f\"{DATA_PATH}/kuairec_caption_category.csv\", lineterminator='\\n')\n",
    "caption_category"
   ]
  }
 ],
 "metadata": {
  "kernelspec": {
   "display_name": "REMA1",
   "language": "python",
   "name": "python3"
  },
  "language_info": {
   "codemirror_mode": {
    "name": "ipython",
    "version": 3
   },
   "file_extension": ".py",
   "mimetype": "text/x-python",
   "name": "python",
   "nbconvert_exporter": "python",
   "pygments_lexer": "ipython3",
   "version": "3.9.21"
  }
 },
 "nbformat": 4,
 "nbformat_minor": 5
}
